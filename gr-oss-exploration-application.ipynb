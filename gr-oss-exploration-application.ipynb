{
 "cells": [
  {
   "attachments": {},
   "cell_type": "markdown",
   "metadata": {},
   "source": [
    "# Sybil exploration grant clima"
   ]
  },
  {
   "cell_type": "code",
   "execution_count": 69,
   "metadata": {},
   "outputs": [],
   "source": [
    "import os\n",
    "import sys\n",
    "from pathlib import Path\n",
    "import numpy as np\n",
    "import pandas as pd"
   ]
  },
  {
   "cell_type": "code",
   "execution_count": 70,
   "metadata": {},
   "outputs": [],
   "source": [
    "from legos import TransactionAnalyser\n",
    "from utils import LoadData"
   ]
  },
  {
   "cell_type": "code",
   "execution_count": 71,
   "metadata": {},
   "outputs": [],
   "source": [
    "current_dir = Path(os.getcwd())"
   ]
  },
  {
   "attachments": {},
   "cell_type": "markdown",
   "metadata": {},
   "source": [
    "### Initialisation of the data"
   ]
  },
  {
   "attachments": {},
   "cell_type": "markdown",
   "metadata": {},
   "source": [
    "#### Grant data initialisation"
   ]
  },
  {
   "cell_type": "code",
   "execution_count": 72,
   "metadata": {},
   "outputs": [],
   "source": [
    "path_to_grants = \"data/grants\"\n",
    "path_to_contributor_address = os.path.join(path_to_grants, \"address\")"
   ]
  },
  {
   "cell_type": "code",
   "execution_count": 73,
   "metadata": {},
   "outputs": [
    {
     "data": {
      "text/plain": [
       "['df_contribution_address_CLIMATE.csv',\n",
       " 'df_contribution_address_ETHEREUM.csv',\n",
       " 'df_contribution_address_FANTOM.csv',\n",
       " 'df_contribution_address_GR15.csv',\n",
       " 'df_contribution_address_OSS.csv',\n",
       " 'df_contribution_address_UNICEF.csv',\n",
       " 'unique_ctbt_address.csv']"
      ]
     },
     "execution_count": 73,
     "metadata": {},
     "output_type": "execute_result"
    }
   ],
   "source": [
    "full_path_add = os.path.join(current_dir, path_to_contributor_address)\n",
    "files = os.listdir(full_path_add)\n",
    "files"
   ]
  },
  {
   "cell_type": "code",
   "execution_count": 74,
   "metadata": {},
   "outputs": [],
   "source": [
    "df_address = pd.read_csv(os.path.join(full_path_add, \"df_contribution_address_CLIMATE.csv\"))\n",
    "list_address = df_address[\"address\"].tolist()"
   ]
  },
  {
   "attachments": {},
   "cell_type": "markdown",
   "metadata": {},
   "source": [
    "The list_address is then used to load all the transactions from the grant data."
   ]
  },
  {
   "attachments": {},
   "cell_type": "markdown",
   "metadata": {},
   "source": [
    "#### Data loader initialisation"
   ]
  },
  {
   "cell_type": "code",
   "execution_count": 75,
   "metadata": {},
   "outputs": [
    {
     "name": "stdout",
     "output_type": "stream",
     "text": [
      "c:\\Users\\DELL Admin\\Documents\\ODC\\DataBuilderHackathon\\transactions_full\n"
     ]
    }
   ],
   "source": [
    "path_to_parent = Path(current_dir).parent\n",
    "path_to_tx = os.path.join(path_to_parent, 'transactions_full')\n",
    "print(path_to_tx)"
   ]
  },
  {
   "cell_type": "code",
   "execution_count": 76,
   "metadata": {},
   "outputs": [],
   "source": [
    "data_loader = LoadData.LoadData(path_to_tx)"
   ]
  },
  {
   "attachments": {},
   "cell_type": "markdown",
   "metadata": {},
   "source": [
    "The data loader is then used to load the data from the grant data. It takes some time to load the data. 3 minutes on my computer. "
   ]
  },
  {
   "cell_type": "code",
   "execution_count": 77,
   "metadata": {},
   "outputs": [],
   "source": [
    "df_tx = data_loader.create_df_tx('ethereum', list_address)"
   ]
  },
  {
   "attachments": {},
   "cell_type": "markdown",
   "metadata": {},
   "source": [
    "#### Sybil scorer TransactionAnalyser initialisation and exploration"
   ]
  },
  {
   "cell_type": "code",
   "execution_count": 78,
   "metadata": {},
   "outputs": [],
   "source": [
    "tx_analyser = TransactionAnalyser.TransactionAnalyser(df_tx, df_address=df_address)"
   ]
  },
  {
   "cell_type": "code",
   "execution_count": 79,
   "metadata": {},
   "outputs": [
    {
     "data": {
      "text/html": [
       "<div>\n",
       "<style scoped>\n",
       "    .dataframe tbody tr th:only-of-type {\n",
       "        vertical-align: middle;\n",
       "    }\n",
       "\n",
       "    .dataframe tbody tr th {\n",
       "        vertical-align: top;\n",
       "    }\n",
       "\n",
       "    .dataframe thead th {\n",
       "        text-align: right;\n",
       "    }\n",
       "</style>\n",
       "<table border=\"1\" class=\"dataframe\">\n",
       "  <thead>\n",
       "    <tr style=\"text-align: right;\">\n",
       "      <th></th>\n",
       "      <th>address</th>\n",
       "    </tr>\n",
       "  </thead>\n",
       "  <tbody>\n",
       "    <tr>\n",
       "      <th>0</th>\n",
       "      <td>0x001f41de6f455d6df74a669c6b21b6dda1bae644</td>\n",
       "    </tr>\n",
       "    <tr>\n",
       "      <th>1</th>\n",
       "      <td>0x002153708f11f2651215059eea30820ee4d49ff3</td>\n",
       "    </tr>\n",
       "  </tbody>\n",
       "</table>\n",
       "</div>"
      ],
      "text/plain": [
       "                                      address\n",
       "0  0x001f41de6f455d6df74a669c6b21b6dda1bae644\n",
       "1  0x002153708f11f2651215059eea30820ee4d49ff3"
      ]
     },
     "execution_count": 79,
     "metadata": {},
     "output_type": "execute_result"
    }
   ],
   "source": [
    "df_matching_address = pd.DataFrame(df_tx.EOA.unique(), columns=[\"address\"])\n",
    "df_matching_address.head(2)"
   ]
  },
  {
   "attachments": {},
   "cell_type": "markdown",
   "metadata": {},
   "source": [
    "### Load grant application"
   ]
  },
  {
   "cell_type": "code",
   "execution_count": 80,
   "metadata": {},
   "outputs": [],
   "source": [
    "df_applications = pd.read_csv(os.path.join(path_to_grants, \"df_application_normalized.csv\"))"
   ]
  },
  {
   "cell_type": "code",
   "execution_count": 129,
   "metadata": {},
   "outputs": [
    {
     "data": {
      "text/html": [
       "<div>\n",
       "<style scoped>\n",
       "    .dataframe tbody tr th:only-of-type {\n",
       "        vertical-align: middle;\n",
       "    }\n",
       "\n",
       "    .dataframe tbody tr th {\n",
       "        vertical-align: top;\n",
       "    }\n",
       "\n",
       "    .dataframe thead th {\n",
       "        text-align: right;\n",
       "    }\n",
       "</style>\n",
       "<table border=\"1\" class=\"dataframe\">\n",
       "  <thead>\n",
       "    <tr style=\"text-align: right;\">\n",
       "      <th></th>\n",
       "      <th>grant_id</th>\n",
       "      <th>project_active_grant</th>\n",
       "      <th>project_approved</th>\n",
       "      <th>project_address</th>\n",
       "      <th>project_title</th>\n",
       "      <th>project_website</th>\n",
       "      <th>project_decription</th>\n",
       "      <th>project_created_at</th>\n",
       "      <th>project_round</th>\n",
       "      <th>project_long_id</th>\n",
       "      <th>...</th>\n",
       "      <th>project_funding_source</th>\n",
       "      <th>project_team_size</th>\n",
       "      <th>live_on_other_chains</th>\n",
       "      <th>project_value</th>\n",
       "      <th>project_improvements_to_existing</th>\n",
       "      <th>project_github_twitter_credential</th>\n",
       "      <th>project_github_org_link</th>\n",
       "      <th>project_amount_received</th>\n",
       "      <th>project_contributor_count</th>\n",
       "      <th>project_contribution_count</th>\n",
       "    </tr>\n",
       "  </thead>\n",
       "  <tbody>\n",
       "  </tbody>\n",
       "</table>\n",
       "<p>0 rows × 28 columns</p>\n",
       "</div>"
      ],
      "text/plain": [
       "Empty DataFrame\n",
       "Columns: [grant_id, project_active_grant, project_approved, project_address, project_title, project_website, project_decription, project_created_at, project_round, project_long_id, project_status, project_last_modify, project_application_round, project_last_update, project_contract_id, project_github_user, project_github, project_twitter, project_funding_source, project_team_size, live_on_other_chains, project_value, project_improvements_to_existing, project_github_twitter_credential, project_github_org_link, project_amount_received, project_contributor_count, project_contribution_count]\n",
       "Index: []\n",
       "\n",
       "[0 rows x 28 columns]"
      ]
     },
     "execution_count": 129,
     "metadata": {},
     "output_type": "execute_result"
    }
   ],
   "source": [
    "df_applications[df_applications.project_address == \"0xe126b3E5d052f1F575828f61fEBA4f4f2603652a\"]"
   ]
  },
  {
   "cell_type": "code",
   "execution_count": 95,
   "metadata": {},
   "outputs": [],
   "source": [
    "df_climate = df_applications[df_applications.project_round == \"CLIMATE\"]"
   ]
  },
  {
   "cell_type": "code",
   "execution_count": 121,
   "metadata": {},
   "outputs": [
    {
     "name": "stderr",
     "output_type": "stream",
     "text": [
      "C:\\Users\\DELL Admin\\AppData\\Local\\Temp\\ipykernel_15484\\2193138879.py:1: SettingWithCopyWarning: \n",
      "A value is trying to be set on a copy of a slice from a DataFrame.\n",
      "Try using .loc[row_indexer,col_indexer] = value instead\n",
      "\n",
      "See the caveats in the documentation: https://pandas.pydata.org/pandas-docs/stable/user_guide/indexing.html#returning-a-view-versus-a-copy\n",
      "  df_climate[\"contract_id\"] = df_climate.grant_id.apply(lambda x :x.split('-')[0])\n"
     ]
    }
   ],
   "source": [
    "df_climate[\"contract_id\"] = df_climate.grant_id.apply(lambda x :x.split('-')[0])"
   ]
  },
  {
   "cell_type": "code",
   "execution_count": 122,
   "metadata": {},
   "outputs": [
    {
     "data": {
      "text/plain": [
       "array(['0x0299d145933e3abc9bee2251589d080e0b12765e7e211e72e5209d0ac1889d33',\n",
       "       '0x0b84bfa1e358e2c7816e5244258c16e4d6d06930fb4cf20f2d714ce35d330308',\n",
       "       '0x0d85d55a968bc9929c4f7ddfef2e6008b4ad8b77be65f7c08e89eab7cb760cc6',\n",
       "       '0x13fdb2715bc255356cf8f34ec8d40f3ffd0e2d38299b5533ee2c7772e2948e5b',\n",
       "       '0x21cf1e3113b6bc01f3bc0517be60f2bcf495ba9e6ba9be416ec0fb863c8c1ec7',\n",
       "       '0x2971da13feca9a170191e5ee5850beb57acbab9f5850e96b50f5d2ab15a351f2',\n",
       "       '0x29ebfa45b1d708eda13c20e04a999053361a809a89c48041ffe67890329aefd1',\n",
       "       '0x2e4e97b9d9c36923cf2c1062f16c6cb83259c1e0b9a10ac466bf20cec9589ae1',\n",
       "       '0x329170e769ace967de0a1467dbeb2c3eaee2580099ccb9dc650452ab10216821',\n",
       "       '0x34da3ca2039af745fdf37add512a3cb5fdd7b7b0a5c95fd74877742b534222b3',\n",
       "       '0x3f9ed1884e631b7684ab9421a7ad3b4b532308268bac91bdd772d483f0363131',\n",
       "       '0x42799cfce3b14376285e960875ef687cd7d1b32439a2ac3316304536f2c16509',\n",
       "       '0x42c5410440da06b29d782ee691783aad21d76b0de61c1034432f816af89aa57f',\n",
       "       '0x43655e0e22d8654df1d008ab61aa8170f3459124f87253b6a60e728138fb2f44',\n",
       "       '0x49b116df324396ec3f9ff3fd3f6d9d1d50e1412f887316ca6152d1372af8ad36',\n",
       "       '0x505b62acc15bf844c19bb19e8c6e24401f8c97c9efce376982e015003ea3354d',\n",
       "       '0x52f41f0f49803ae47f13977a8a5dd1b170348e82e2d59303861efb83d1413b50',\n",
       "       '0x5b82b9d0cb3d0d14c8fe693502b197cfbc0f55115446632448549da20538c96c',\n",
       "       '0x5c31eaad4f03c467e71bdc6edbc2360a014b2001045b0d583167544c032a8fde',\n",
       "       '0x70d59317f7bfd1fb5b9a757c3f30f52f536ad7eb219504a5dc8e8414a2fcb66b',\n",
       "       '0x7352c239d0dd8c39062300c7a507aed952f61908a44b0a0e146d8b6eec846e58',\n",
       "       '0x785ab248b1c65ee0605ae77c028ec5c79fe96cf57ca184c3fdb8da7c224b6e0e',\n",
       "       '0x78b858009ecfa46c866a7765cf0665699dd097eaadc3bdf9fc4f1f2229823bf5',\n",
       "       '0x7c08d17ecd83e74334fa1bf2a0110224bced6b68ea852943f35641aa6f11469e',\n",
       "       '0x82c3e8a9200b9f87d9b025a8bb3f9fc6720a7c315773e0ec990915430529db51',\n",
       "       '0x84e5ecb55ea744764c11c1600cdaba725af5cd9bef1456cfb4f1b16069f3f6a7',\n",
       "       '0x89c4fbe0d97ba25cba17b36c837c27cb7b39c96ccc8b43a99df2dfaca9732763',\n",
       "       '0x8d8fc88fb4591a5d918cbd945137e29b9275b4f983902901edb6362ee11154c5',\n",
       "       '0x9575cc4fc36454d4fd20fe68f980a72247e115363927b4ffba3a59f713f65351',\n",
       "       '0x95adaaef6d0a11b862f47a236bbca9d93dcfe35d1ae044edc0223d5485e1bfbb',\n",
       "       '0x9b8fd21ff33280aa6dddb9d073a527ab490b07fd3ebd91850b6b0f2065542af5',\n",
       "       '0x9c9f6f054c70be233af788cafeb5073d41df5667a572819ce21b60f5424caff5',\n",
       "       '0x9e8896090abff240885c74b27cd32f3917d2471e504e82db21e309360bbf2903',\n",
       "       '0xa35e52635d40be090a49c587e58fab7410c30b9cff7ad5cc66b547d88cb93200',\n",
       "       '0xa367f29625986a243fea7298958367a08679e748a57d3de6ae17a8a0317fef49',\n",
       "       '0xa429920058b543ded8fc02ca3aa69a9353faf3f1346b7f1b39e7b5ae5bac3777',\n",
       "       '0xa8570318dc5eb4618cb030b0f06ea912302efedecf23d819710ae76ff9f238ad',\n",
       "       '0xb63a68c4f785e348b96618bf48d466ffeabad13402f4f4ce93da66ede1cf3a98',\n",
       "       '0xbd90cd76d77905c0600a5d21e5f8120ac756385175f1c2345efd88e2d39d4554',\n",
       "       '0xc3b35b0cb696ab824b9d2d0a515ffd79fc1cf3950442bc0ca91a3c6441cdfa7a',\n",
       "       '0xc8c5d94192210bb9b341f13bab13b64a04a893fd50fc554fd6661b6b58fd5360',\n",
       "       '0xcaa2f99f0e54943da441af228296cf621a7a1eab4949305785e51e342a5afd15',\n",
       "       '0xd5b16b89145a20eac6baec6b21b640eb86df90d36102d9bc808ec2e858557ec4',\n",
       "       '0xd716c3a7c353f0458ff8387fb435606934e25b631a83db017e5eb9a0022358f0',\n",
       "       '0xdbcd05ba701119f00aafd0212c87aded137112a007f4cc56340dc9124515e329',\n",
       "       '0xdbce25d3279d12e5a6de4a541b1ccb6669e1271f53f180442b5c5d527ebd0f58',\n",
       "       '0xdfa4e3f6ae4072b9dee18452491dc0212ff00714b1d7469d6768ff0af8ad8444',\n",
       "       '0xe8017af6c0a19b08c86e8ef94d9b3dadcbe8f55bc446d7359a6f294d68227b84',\n",
       "       '0xe94883624f3bd962753c133346b353817cf0c2accec7259d3eb59219dd2761ba',\n",
       "       '0xe9e32a25dc4acd136fc1a77f49e80ed75ff1d9c4bdd2f3818753d6b106627f09',\n",
       "       '0xea014245840ff70f7c7060ed89882aa30b1da5246b7c4000b6a9e85930f97613',\n",
       "       '0xedc8c2863195c102234eb522c94568c4aabd91d4eb2df52d2c4dc9f953e01295',\n",
       "       '0xedd3049723764122bbed15c36557ab9c5057fded298af97b68dc226969cc3664',\n",
       "       '0xf39a20c932f2445f48214e8726d305bac89d54b3c99940d601a168e2b8745014'],\n",
       "      dtype=object)"
      ]
     },
     "execution_count": 122,
     "metadata": {},
     "output_type": "execute_result"
    }
   ],
   "source": [
    "df_climate[\"contract_id\"].unique()"
   ]
  },
  {
   "cell_type": "code",
   "execution_count": 101,
   "metadata": {},
   "outputs": [
    {
     "data": {
      "text/plain": [
       "False"
      ]
     },
     "execution_count": 101,
     "metadata": {},
     "output_type": "execute_result"
    }
   ],
   "source": [
    "'0xD95A1969c41112cEE9A2c931E849bCef36a16F4C' in df_climate.project_long_id.values"
   ]
  },
  {
   "cell_type": "code",
   "execution_count": 91,
   "metadata": {},
   "outputs": [
    {
     "data": {
      "text/plain": [
       "0                                                    NaN\n",
       "1                                                    NaN\n",
       "2                                                    NaN\n",
       "3                                                    NaN\n",
       "4                                                    NaN\n",
       "                              ...                       \n",
       "1127     1:0x03506eD3f57892C85DB20C36846e9c808aFe9ef4:88\n",
       "1128    10:0x8e1bD5Da87C14dd8e08F7ecc2aBf9D1d558ea174:39\n",
       "1129    1:0x03506eD3f57892C85DB20C36846e9c808aFe9ef4:112\n",
       "1130     1:0x03506eD3f57892C85DB20C36846e9c808aFe9ef4:96\n",
       "1131    1:0x03506eD3f57892C85DB20C36846e9c808aFe9ef4:219\n",
       "Name: project_contract_id, Length: 1132, dtype: object"
      ]
     },
     "execution_count": 91,
     "metadata": {},
     "output_type": "execute_result"
    }
   ],
   "source": [
    "df_applications.project_contract_id.apply(lambda x : x.str.split(':'))"
   ]
  },
  {
   "cell_type": "code",
   "execution_count": 82,
   "metadata": {},
   "outputs": [
    {
     "data": {
      "text/plain": [
       "array(['GR15', 'FANTOM', 'UNICEF', 'CLIMATE', 'ETHEREUM', 'OSS'],\n",
       "      dtype=object)"
      ]
     },
     "execution_count": 82,
     "metadata": {},
     "output_type": "execute_result"
    }
   ],
   "source": [
    "df_applications.project_round.unique()"
   ]
  }
 ],
 "metadata": {
  "kernelspec": {
   "display_name": "Python 3",
   "language": "python",
   "name": "python3"
  },
  "language_info": {
   "codemirror_mode": {
    "name": "ipython",
    "version": 3
   },
   "file_extension": ".py",
   "mimetype": "text/x-python",
   "name": "python",
   "nbconvert_exporter": "python",
   "pygments_lexer": "ipython3",
   "version": "3.10.9"
  },
  "orig_nbformat": 4,
  "vscode": {
   "interpreter": {
    "hash": "369f2c481f4da34e4445cda3fffd2e751bd1c4d706f27375911949ba6bb62e1c"
   }
  }
 },
 "nbformat": 4,
 "nbformat_minor": 2
}
