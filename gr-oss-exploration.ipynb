{
 "cells": [
  {
   "attachments": {},
   "cell_type": "markdown",
   "metadata": {},
   "source": [
    "# Sybil exploration grant clima"
   ]
  },
  {
   "cell_type": "code",
   "execution_count": 1,
   "metadata": {},
   "outputs": [],
   "source": [
    "import os\n",
    "import sys\n",
    "from pathlib import Path\n",
    "import numpy as np\n",
    "import pandas as pd"
   ]
  },
  {
   "cell_type": "code",
   "execution_count": 2,
   "metadata": {},
   "outputs": [],
   "source": [
    "from legos import TransactionAnalyser\n",
    "from utils import LoadData"
   ]
  },
  {
   "cell_type": "code",
   "execution_count": 3,
   "metadata": {},
   "outputs": [],
   "source": [
    "current_dir = Path(os.getcwd())"
   ]
  },
  {
   "attachments": {},
   "cell_type": "markdown",
   "metadata": {},
   "source": [
    "### Initialisation of the data"
   ]
  },
  {
   "attachments": {},
   "cell_type": "markdown",
   "metadata": {},
   "source": [
    "#### Grant data initialisation"
   ]
  },
  {
   "cell_type": "code",
   "execution_count": 4,
   "metadata": {},
   "outputs": [],
   "source": [
    "path_to_contributor_address = \"data/grants/address\""
   ]
  },
  {
   "cell_type": "code",
   "execution_count": 5,
   "metadata": {},
   "outputs": [
    {
     "data": {
      "text/plain": [
       "['df_contribution_address_CLIMATE.csv',\n",
       " 'df_contribution_address_ETHEREUM.csv',\n",
       " 'df_contribution_address_FANTOM.csv',\n",
       " 'df_contribution_address_GR15.csv',\n",
       " 'df_contribution_address_OSS.csv',\n",
       " 'df_contribution_address_UNICEF.csv',\n",
       " 'unique_ctbt_address.csv']"
      ]
     },
     "execution_count": 5,
     "metadata": {},
     "output_type": "execute_result"
    }
   ],
   "source": [
    "full_path_add = os.path.join(current_dir, path_to_contributor_address)\n",
    "files = os.listdir(full_path_add)\n",
    "files"
   ]
  },
  {
   "cell_type": "code",
   "execution_count": 6,
   "metadata": {},
   "outputs": [],
   "source": [
    "df_address = pd.read_csv(os.path.join(full_path_add, \"df_contribution_address_CLIMATE.csv\"))\n",
    "list_address = df_address[\"address\"].tolist()"
   ]
  },
  {
   "attachments": {},
   "cell_type": "markdown",
   "metadata": {},
   "source": [
    "The list_address is then used to load all the transactions from the grant data."
   ]
  },
  {
   "attachments": {},
   "cell_type": "markdown",
   "metadata": {},
   "source": [
    "#### Data loader initialisation"
   ]
  },
  {
   "cell_type": "code",
   "execution_count": 7,
   "metadata": {},
   "outputs": [
    {
     "name": "stdout",
     "output_type": "stream",
     "text": [
      "c:\\Users\\DELL Admin\\Documents\\ODC\\DataBuilderHackathon\\transactions_full\n"
     ]
    }
   ],
   "source": [
    "path_to_parent = Path(current_dir).parent\n",
    "path_to_tx = os.path.join(path_to_parent, 'transactions_full')\n",
    "print(path_to_tx)"
   ]
  },
  {
   "cell_type": "code",
   "execution_count": 8,
   "metadata": {},
   "outputs": [],
   "source": [
    "data_loader = LoadData.LoadData(path_to_tx)"
   ]
  },
  {
   "attachments": {},
   "cell_type": "markdown",
   "metadata": {},
   "source": [
    "The data loader is then used to load the data from the grant data. It takes some time to load the data. 3 minutes on my computer. "
   ]
  },
  {
   "cell_type": "code",
   "execution_count": 9,
   "metadata": {},
   "outputs": [],
   "source": [
    "df_tx = data_loader.create_df_tx('ethereum', list_address)"
   ]
  },
  {
   "attachments": {},
   "cell_type": "markdown",
   "metadata": {},
   "source": [
    "#### Sybil scorer TransactionAnalyser initialisation and exploration"
   ]
  },
  {
   "cell_type": "code",
   "execution_count": 10,
   "metadata": {},
   "outputs": [],
   "source": [
    "tx_analyser = TransactionAnalyser.TransactionAnalyser(df_tx, df_address=df_address)"
   ]
  },
  {
   "cell_type": "code",
   "execution_count": 11,
   "metadata": {},
   "outputs": [
    {
     "data": {
      "text/html": [
       "<div>\n",
       "<style scoped>\n",
       "    .dataframe tbody tr th:only-of-type {\n",
       "        vertical-align: middle;\n",
       "    }\n",
       "\n",
       "    .dataframe tbody tr th {\n",
       "        vertical-align: top;\n",
       "    }\n",
       "\n",
       "    .dataframe thead th {\n",
       "        text-align: right;\n",
       "    }\n",
       "</style>\n",
       "<table border=\"1\" class=\"dataframe\">\n",
       "  <thead>\n",
       "    <tr style=\"text-align: right;\">\n",
       "      <th></th>\n",
       "      <th>address</th>\n",
       "    </tr>\n",
       "  </thead>\n",
       "  <tbody>\n",
       "    <tr>\n",
       "      <th>0</th>\n",
       "      <td>0x001f41de6f455d6df74a669c6b21b6dda1bae644</td>\n",
       "    </tr>\n",
       "    <tr>\n",
       "      <th>1</th>\n",
       "      <td>0x002153708f11f2651215059eea30820ee4d49ff3</td>\n",
       "    </tr>\n",
       "  </tbody>\n",
       "</table>\n",
       "</div>"
      ],
      "text/plain": [
       "                                      address\n",
       "0  0x001f41de6f455d6df74a669c6b21b6dda1bae644\n",
       "1  0x002153708f11f2651215059eea30820ee4d49ff3"
      ]
     },
     "execution_count": 11,
     "metadata": {},
     "output_type": "execute_result"
    }
   ],
   "source": [
    "df_matching_address = pd.DataFrame(df_tx.EOA.unique(), columns=[\"address\"])\n",
    "df_matching_address.head(2)"
   ]
  },
  {
   "cell_type": "code",
   "execution_count": 19,
   "metadata": {},
   "outputs": [
    {
     "data": {
      "text/plain": [
       "False"
      ]
     },
     "execution_count": 19,
     "metadata": {},
     "output_type": "execute_result"
    }
   ],
   "source": [
    "'0x001f41de6f455d6df74a669c6b21b6dda1bae644' in tx_analyser.df_seed_wallet_naive.to_address.values"
   ]
  },
  {
   "cell_type": "code",
   "execution_count": 20,
   "metadata": {},
   "outputs": [],
   "source": [
    "seed_add = tx_analyser.df_seed_wallet_naive.loc['0x001f41de6f455d6df74a669c6b21b6dda1bae644', 'from_address']"
   ]
  },
  {
   "cell_type": "code",
   "execution_count": 21,
   "metadata": {},
   "outputs": [
    {
     "data": {
      "text/plain": [
       "from_address    0x001f41de6f455d6df74a669c6b21b6dda1bae644\n",
       "to_address      0x1b165fe4da6bc58ab8370ddc763d367d29f50ef0\n",
       "Name: 0x001f41de6f455d6df74a669c6b21b6dda1bae644, dtype: object"
      ]
     },
     "execution_count": 21,
     "metadata": {},
     "output_type": "execute_result"
    }
   ],
   "source": [
    "tx_analyser.df_seed_wallet_naive.loc['0x001f41de6f455d6df74a669c6b21b6dda1bae644', :]"
   ]
  },
  {
   "cell_type": "code",
   "execution_count": 22,
   "metadata": {},
   "outputs": [
    {
     "data": {
      "text/plain": [
       "True"
      ]
     },
     "execution_count": 22,
     "metadata": {},
     "output_type": "execute_result"
    }
   ],
   "source": [
    "'0x001f41de6f455d6df74a669c6b21b6dda1bae644' in tx_analyser.df_seed_wallet_naive.index"
   ]
  },
  {
   "cell_type": "code",
   "execution_count": 50,
   "metadata": {},
   "outputs": [],
   "source": [
    "df_matching_address['seed_same_naive'] = df_matching_address.loc[:, 'address'].apply(lambda x : tx_analyser.has_same_seed_naive(x))"
   ]
  },
  {
   "cell_type": "code",
   "execution_count": 51,
   "metadata": {},
   "outputs": [],
   "source": [
    "df_matching_address['seed_same'] = df_matching_address.loc[:, 'address'].apply(lambda x : tx_analyser.has_same_seed(x))"
   ]
  },
  {
   "cell_type": "code",
   "execution_count": 52,
   "metadata": {},
   "outputs": [],
   "source": [
    "df_matching_address['seed_suspicious'] = df_matching_address.loc[:, 'seed_same_naive'].ne(df_matching_address.loc[:, 'seed_same'])"
   ]
  },
  {
   "cell_type": "code",
   "execution_count": 53,
   "metadata": {},
   "outputs": [
    {
     "data": {
      "text/plain": [
       "False    2428\n",
       "True       35\n",
       "Name: seed_suspicious, dtype: int64"
      ]
     },
     "execution_count": 53,
     "metadata": {},
     "output_type": "execute_result"
    }
   ],
   "source": [
    "df_matching_address['seed_suspicious'].value_counts()"
   ]
  },
  {
   "cell_type": "code",
   "execution_count": 55,
   "metadata": {},
   "outputs": [
    {
     "data": {
      "text/html": [
       "<div>\n",
       "<style scoped>\n",
       "    .dataframe tbody tr th:only-of-type {\n",
       "        vertical-align: middle;\n",
       "    }\n",
       "\n",
       "    .dataframe tbody tr th {\n",
       "        vertical-align: top;\n",
       "    }\n",
       "\n",
       "    .dataframe thead th {\n",
       "        text-align: right;\n",
       "    }\n",
       "</style>\n",
       "<table border=\"1\" class=\"dataframe\">\n",
       "  <thead>\n",
       "    <tr style=\"text-align: right;\">\n",
       "      <th></th>\n",
       "      <th>address</th>\n",
       "      <th>seed_same_naive</th>\n",
       "      <th>seed_same</th>\n",
       "      <th>seed_suspicious</th>\n",
       "    </tr>\n",
       "  </thead>\n",
       "  <tbody>\n",
       "    <tr>\n",
       "      <th>14</th>\n",
       "      <td>0x0150c608a25176c08d9bc8b43d0dc64e4c9f4a58</td>\n",
       "      <td>False</td>\n",
       "      <td>True</td>\n",
       "      <td>True</td>\n",
       "    </tr>\n",
       "    <tr>\n",
       "      <th>57</th>\n",
       "      <td>0x061c405ccb27cf0ebfc76f41da09c2e3eba8c476</td>\n",
       "      <td>False</td>\n",
       "      <td>True</td>\n",
       "      <td>True</td>\n",
       "    </tr>\n",
       "    <tr>\n",
       "      <th>189</th>\n",
       "      <td>0x13969a736a633aab08b2d57881b0f4ec92ef9a86</td>\n",
       "      <td>False</td>\n",
       "      <td>True</td>\n",
       "      <td>True</td>\n",
       "    </tr>\n",
       "    <tr>\n",
       "      <th>266</th>\n",
       "      <td>0x1c491e2253abc092acadc5744a0623229e95b8a5</td>\n",
       "      <td>False</td>\n",
       "      <td>True</td>\n",
       "      <td>True</td>\n",
       "    </tr>\n",
       "    <tr>\n",
       "      <th>473</th>\n",
       "      <td>0x30b3bbdb92eeb77f0c3394bfaf26a44767ec1bd0</td>\n",
       "      <td>False</td>\n",
       "      <td>True</td>\n",
       "      <td>True</td>\n",
       "    </tr>\n",
       "    <tr>\n",
       "      <th>478</th>\n",
       "      <td>0x312e80bb497f5a399e01208c47360b531e34910b</td>\n",
       "      <td>False</td>\n",
       "      <td>True</td>\n",
       "      <td>True</td>\n",
       "    </tr>\n",
       "    <tr>\n",
       "      <th>498</th>\n",
       "      <td>0x32ff90bc3fa85d87e982d5b384a453bed65a799d</td>\n",
       "      <td>False</td>\n",
       "      <td>True</td>\n",
       "      <td>True</td>\n",
       "    </tr>\n",
       "    <tr>\n",
       "      <th>624</th>\n",
       "      <td>0x41b0b75802b25fbc14e0157f9341473843c28e1e</td>\n",
       "      <td>False</td>\n",
       "      <td>True</td>\n",
       "      <td>True</td>\n",
       "    </tr>\n",
       "    <tr>\n",
       "      <th>698</th>\n",
       "      <td>0x49371938108e13d0253de8f488de7c82c2735ee0</td>\n",
       "      <td>False</td>\n",
       "      <td>True</td>\n",
       "      <td>True</td>\n",
       "    </tr>\n",
       "    <tr>\n",
       "      <th>703</th>\n",
       "      <td>0x49f86794fe566dead8f8198729e5fdf37cb7f6ab</td>\n",
       "      <td>False</td>\n",
       "      <td>True</td>\n",
       "      <td>True</td>\n",
       "    </tr>\n",
       "    <tr>\n",
       "      <th>718</th>\n",
       "      <td>0x4b2302055a7fec27789b029533e476f6f062d58f</td>\n",
       "      <td>False</td>\n",
       "      <td>True</td>\n",
       "      <td>True</td>\n",
       "    </tr>\n",
       "    <tr>\n",
       "      <th>731</th>\n",
       "      <td>0x4c9f98b5c780fad0187eeefe4f1905ef7cd92649</td>\n",
       "      <td>False</td>\n",
       "      <td>True</td>\n",
       "      <td>True</td>\n",
       "    </tr>\n",
       "    <tr>\n",
       "      <th>752</th>\n",
       "      <td>0x4f49c34759b7e888ce77de9dd34fec63d63495cc</td>\n",
       "      <td>False</td>\n",
       "      <td>True</td>\n",
       "      <td>True</td>\n",
       "    </tr>\n",
       "    <tr>\n",
       "      <th>791</th>\n",
       "      <td>0x544aac4d9bb28421f1d0a31eab827cf88096a706</td>\n",
       "      <td>False</td>\n",
       "      <td>True</td>\n",
       "      <td>True</td>\n",
       "    </tr>\n",
       "    <tr>\n",
       "      <th>799</th>\n",
       "      <td>0x55373f56b2e6f55671ac56afd0c9d57e9c668a57</td>\n",
       "      <td>False</td>\n",
       "      <td>True</td>\n",
       "      <td>True</td>\n",
       "    </tr>\n",
       "    <tr>\n",
       "      <th>890</th>\n",
       "      <td>0x5e5de26e14a711d6eb21333c24f1acec9fa0a2c1</td>\n",
       "      <td>False</td>\n",
       "      <td>True</td>\n",
       "      <td>True</td>\n",
       "    </tr>\n",
       "    <tr>\n",
       "      <th>938</th>\n",
       "      <td>0x631ab8eb40588543df900263f864b6376d56a587</td>\n",
       "      <td>False</td>\n",
       "      <td>True</td>\n",
       "      <td>True</td>\n",
       "    </tr>\n",
       "    <tr>\n",
       "      <th>1151</th>\n",
       "      <td>0x78b74016f06eea3d9b5498aa30f6981f2a01cc84</td>\n",
       "      <td>False</td>\n",
       "      <td>True</td>\n",
       "      <td>True</td>\n",
       "    </tr>\n",
       "    <tr>\n",
       "      <th>1160</th>\n",
       "      <td>0x791cf03d9b1c7ada7289c507f57cfa3be0268d3d</td>\n",
       "      <td>False</td>\n",
       "      <td>True</td>\n",
       "      <td>True</td>\n",
       "    </tr>\n",
       "    <tr>\n",
       "      <th>1251</th>\n",
       "      <td>0x81f7c3796f4b024b6700a0134a1c509acf920324</td>\n",
       "      <td>False</td>\n",
       "      <td>True</td>\n",
       "      <td>True</td>\n",
       "    </tr>\n",
       "    <tr>\n",
       "      <th>1320</th>\n",
       "      <td>0x8a819d3b2dd4e18f36a013e6d8f2be26452550c1</td>\n",
       "      <td>False</td>\n",
       "      <td>True</td>\n",
       "      <td>True</td>\n",
       "    </tr>\n",
       "    <tr>\n",
       "      <th>1388</th>\n",
       "      <td>0x918602b520530ee49e8b24565fc7a51170cf3d48</td>\n",
       "      <td>False</td>\n",
       "      <td>True</td>\n",
       "      <td>True</td>\n",
       "    </tr>\n",
       "    <tr>\n",
       "      <th>1436</th>\n",
       "      <td>0x95ec4b5d438c81c7412440aeefbd528c7e1e270c</td>\n",
       "      <td>False</td>\n",
       "      <td>True</td>\n",
       "      <td>True</td>\n",
       "    </tr>\n",
       "    <tr>\n",
       "      <th>1715</th>\n",
       "      <td>0xb405b3e6494cac9a88660362ee19c38e955e2c6e</td>\n",
       "      <td>False</td>\n",
       "      <td>True</td>\n",
       "      <td>True</td>\n",
       "    </tr>\n",
       "    <tr>\n",
       "      <th>1825</th>\n",
       "      <td>0xbff4d4f82e2aa032a1ef35f7e648503789113609</td>\n",
       "      <td>False</td>\n",
       "      <td>True</td>\n",
       "      <td>True</td>\n",
       "    </tr>\n",
       "    <tr>\n",
       "      <th>1846</th>\n",
       "      <td>0xc28064b875ae25f9a2ca28c08f116a5c26229f69</td>\n",
       "      <td>False</td>\n",
       "      <td>True</td>\n",
       "      <td>True</td>\n",
       "    </tr>\n",
       "    <tr>\n",
       "      <th>2035</th>\n",
       "      <td>0xd48339d2d8da11a8f16ef696f0a42f495177fbf9</td>\n",
       "      <td>False</td>\n",
       "      <td>True</td>\n",
       "      <td>True</td>\n",
       "    </tr>\n",
       "    <tr>\n",
       "      <th>2052</th>\n",
       "      <td>0xd6013b0309a058adbd0a8c727fbaba79f60bc238</td>\n",
       "      <td>False</td>\n",
       "      <td>True</td>\n",
       "      <td>True</td>\n",
       "    </tr>\n",
       "    <tr>\n",
       "      <th>2205</th>\n",
       "      <td>0xe64113140960528f6af928d7ca4f45d192286a7a</td>\n",
       "      <td>False</td>\n",
       "      <td>True</td>\n",
       "      <td>True</td>\n",
       "    </tr>\n",
       "    <tr>\n",
       "      <th>2208</th>\n",
       "      <td>0xe679a7758032ecd177f81a24c2748a12a16b8fd6</td>\n",
       "      <td>False</td>\n",
       "      <td>True</td>\n",
       "      <td>True</td>\n",
       "    </tr>\n",
       "    <tr>\n",
       "      <th>2262</th>\n",
       "      <td>0xeb85449a63a254f0a8ec583cc84a07c116326bbc</td>\n",
       "      <td>False</td>\n",
       "      <td>True</td>\n",
       "      <td>True</td>\n",
       "    </tr>\n",
       "    <tr>\n",
       "      <th>2289</th>\n",
       "      <td>0xee6c21046ebf0250db07d3b136251de3d86decf5</td>\n",
       "      <td>True</td>\n",
       "      <td>False</td>\n",
       "      <td>True</td>\n",
       "    </tr>\n",
       "    <tr>\n",
       "      <th>2341</th>\n",
       "      <td>0xf437dac31a5c39d2a7c3f92682f0ff20d170a83a</td>\n",
       "      <td>False</td>\n",
       "      <td>True</td>\n",
       "      <td>True</td>\n",
       "    </tr>\n",
       "    <tr>\n",
       "      <th>2342</th>\n",
       "      <td>0xf4a25ef4df76e0cab20c92464c6c43762cf50d05</td>\n",
       "      <td>False</td>\n",
       "      <td>True</td>\n",
       "      <td>True</td>\n",
       "    </tr>\n",
       "    <tr>\n",
       "      <th>2461</th>\n",
       "      <td>0xff938bd81c2671c28caf920d8015bad9fb816d59</td>\n",
       "      <td>False</td>\n",
       "      <td>True</td>\n",
       "      <td>True</td>\n",
       "    </tr>\n",
       "  </tbody>\n",
       "</table>\n",
       "</div>"
      ],
      "text/plain": [
       "                                         address  seed_same_naive  seed_same  \\\n",
       "14    0x0150c608a25176c08d9bc8b43d0dc64e4c9f4a58            False       True   \n",
       "57    0x061c405ccb27cf0ebfc76f41da09c2e3eba8c476            False       True   \n",
       "189   0x13969a736a633aab08b2d57881b0f4ec92ef9a86            False       True   \n",
       "266   0x1c491e2253abc092acadc5744a0623229e95b8a5            False       True   \n",
       "473   0x30b3bbdb92eeb77f0c3394bfaf26a44767ec1bd0            False       True   \n",
       "478   0x312e80bb497f5a399e01208c47360b531e34910b            False       True   \n",
       "498   0x32ff90bc3fa85d87e982d5b384a453bed65a799d            False       True   \n",
       "624   0x41b0b75802b25fbc14e0157f9341473843c28e1e            False       True   \n",
       "698   0x49371938108e13d0253de8f488de7c82c2735ee0            False       True   \n",
       "703   0x49f86794fe566dead8f8198729e5fdf37cb7f6ab            False       True   \n",
       "718   0x4b2302055a7fec27789b029533e476f6f062d58f            False       True   \n",
       "731   0x4c9f98b5c780fad0187eeefe4f1905ef7cd92649            False       True   \n",
       "752   0x4f49c34759b7e888ce77de9dd34fec63d63495cc            False       True   \n",
       "791   0x544aac4d9bb28421f1d0a31eab827cf88096a706            False       True   \n",
       "799   0x55373f56b2e6f55671ac56afd0c9d57e9c668a57            False       True   \n",
       "890   0x5e5de26e14a711d6eb21333c24f1acec9fa0a2c1            False       True   \n",
       "938   0x631ab8eb40588543df900263f864b6376d56a587            False       True   \n",
       "1151  0x78b74016f06eea3d9b5498aa30f6981f2a01cc84            False       True   \n",
       "1160  0x791cf03d9b1c7ada7289c507f57cfa3be0268d3d            False       True   \n",
       "1251  0x81f7c3796f4b024b6700a0134a1c509acf920324            False       True   \n",
       "1320  0x8a819d3b2dd4e18f36a013e6d8f2be26452550c1            False       True   \n",
       "1388  0x918602b520530ee49e8b24565fc7a51170cf3d48            False       True   \n",
       "1436  0x95ec4b5d438c81c7412440aeefbd528c7e1e270c            False       True   \n",
       "1715  0xb405b3e6494cac9a88660362ee19c38e955e2c6e            False       True   \n",
       "1825  0xbff4d4f82e2aa032a1ef35f7e648503789113609            False       True   \n",
       "1846  0xc28064b875ae25f9a2ca28c08f116a5c26229f69            False       True   \n",
       "2035  0xd48339d2d8da11a8f16ef696f0a42f495177fbf9            False       True   \n",
       "2052  0xd6013b0309a058adbd0a8c727fbaba79f60bc238            False       True   \n",
       "2205  0xe64113140960528f6af928d7ca4f45d192286a7a            False       True   \n",
       "2208  0xe679a7758032ecd177f81a24c2748a12a16b8fd6            False       True   \n",
       "2262  0xeb85449a63a254f0a8ec583cc84a07c116326bbc            False       True   \n",
       "2289  0xee6c21046ebf0250db07d3b136251de3d86decf5             True      False   \n",
       "2341  0xf437dac31a5c39d2a7c3f92682f0ff20d170a83a            False       True   \n",
       "2342  0xf4a25ef4df76e0cab20c92464c6c43762cf50d05            False       True   \n",
       "2461  0xff938bd81c2671c28caf920d8015bad9fb816d59            False       True   \n",
       "\n",
       "      seed_suspicious  \n",
       "14               True  \n",
       "57               True  \n",
       "189              True  \n",
       "266              True  \n",
       "473              True  \n",
       "478              True  \n",
       "498              True  \n",
       "624              True  \n",
       "698              True  \n",
       "703              True  \n",
       "718              True  \n",
       "731              True  \n",
       "752              True  \n",
       "791              True  \n",
       "799              True  \n",
       "890              True  \n",
       "938              True  \n",
       "1151             True  \n",
       "1160             True  \n",
       "1251             True  \n",
       "1320             True  \n",
       "1388             True  \n",
       "1436             True  \n",
       "1715             True  \n",
       "1825             True  \n",
       "1846             True  \n",
       "2035             True  \n",
       "2052             True  \n",
       "2205             True  \n",
       "2208             True  \n",
       "2262             True  \n",
       "2289             True  \n",
       "2341             True  \n",
       "2342             True  \n",
       "2461             True  "
      ]
     },
     "execution_count": 55,
     "metadata": {},
     "output_type": "execute_result"
    }
   ],
   "source": [
    "df_matching_address[df_matching_address['seed_suspicious'] == True]"
   ]
  },
  {
   "cell_type": "code",
   "execution_count": 56,
   "metadata": {},
   "outputs": [
    {
     "name": "stderr",
     "output_type": "stream",
     "text": [
      "C:\\Users\\DELL Admin\\Documents\\ODC\\DataBuilderHackathon\\sybil-scorer\\sbscorer\\legos\\TransactionAnalyser.py:274: SettingWithCopyWarning: \n",
      "A value is trying to be set on a copy of a slice from a DataFrame.\n",
      "Try using .loc[row_indexer,col_indexer] = value instead\n",
      "\n",
      "See the caveats in the documentation: https://pandas.pydata.org/pandas-docs/stable/user_guide/indexing.html#returning-a-view-versus-a-copy\n",
      "  df_other_address['lcs'] = 0\n",
      "C:\\Users\\DELL Admin\\Documents\\ODC\\DataBuilderHackathon\\sybil-scorer\\sbscorer\\legos\\TransactionAnalyser.py:287: SettingWithCopyWarning: \n",
      "A value is trying to be set on a copy of a slice from a DataFrame\n",
      "\n",
      "See the caveats in the documentation: https://pandas.pydata.org/pandas-docs/stable/user_guide/indexing.html#returning-a-view-versus-a-copy\n",
      "  df_other_address.loc[add, 'lcs'] = lcs\n",
      "C:\\Users\\DELL Admin\\Documents\\ODC\\DataBuilderHackathon\\sybil-scorer\\sbscorer\\legos\\TransactionAnalyser.py:279: SettingWithCopyWarning: \n",
      "A value is trying to be set on a copy of a slice from a DataFrame\n",
      "\n",
      "See the caveats in the documentation: https://pandas.pydata.org/pandas-docs/stable/user_guide/indexing.html#returning-a-view-versus-a-copy\n",
      "  df_other_address.loc[add, 'lcs'] = 0\n",
      "C:\\Users\\DELL Admin\\Documents\\ODC\\DataBuilderHackathon\\sybil-scorer\\sbscorer\\legos\\TransactionAnalyser.py:290: SettingWithCopyWarning: \n",
      "A value is trying to be set on a copy of a slice from a DataFrame.\n",
      "Try using .loc[row_indexer,col_indexer] = value instead\n",
      "\n",
      "See the caveats in the documentation: https://pandas.pydata.org/pandas-docs/stable/user_guide/indexing.html#returning-a-view-versus-a-copy\n",
      "  df_similar_address['score'] = df_similar_address.loc[:, 'lcs'].apply(\n",
      "C:\\Users\\DELL Admin\\Documents\\ODC\\DataBuilderHackathon\\sybil-scorer\\sbscorer\\legos\\TransactionAnalyser.py:274: SettingWithCopyWarning: \n",
      "A value is trying to be set on a copy of a slice from a DataFrame.\n",
      "Try using .loc[row_indexer,col_indexer] = value instead\n",
      "\n",
      "See the caveats in the documentation: https://pandas.pydata.org/pandas-docs/stable/user_guide/indexing.html#returning-a-view-versus-a-copy\n",
      "  df_other_address['lcs'] = 0\n",
      "C:\\Users\\DELL Admin\\Documents\\ODC\\DataBuilderHackathon\\sybil-scorer\\sbscorer\\legos\\TransactionAnalyser.py:287: SettingWithCopyWarning: \n",
      "A value is trying to be set on a copy of a slice from a DataFrame\n",
      "\n",
      "See the caveats in the documentation: https://pandas.pydata.org/pandas-docs/stable/user_guide/indexing.html#returning-a-view-versus-a-copy\n",
      "  df_other_address.loc[add, 'lcs'] = lcs\n",
      "C:\\Users\\DELL Admin\\Documents\\ODC\\DataBuilderHackathon\\sybil-scorer\\sbscorer\\legos\\TransactionAnalyser.py:279: SettingWithCopyWarning: \n",
      "A value is trying to be set on a copy of a slice from a DataFrame\n",
      "\n",
      "See the caveats in the documentation: https://pandas.pydata.org/pandas-docs/stable/user_guide/indexing.html#returning-a-view-versus-a-copy\n",
      "  df_other_address.loc[add, 'lcs'] = 0\n",
      "C:\\Users\\DELL Admin\\Documents\\ODC\\DataBuilderHackathon\\sybil-scorer\\sbscorer\\legos\\TransactionAnalyser.py:290: SettingWithCopyWarning: \n",
      "A value is trying to be set on a copy of a slice from a DataFrame.\n",
      "Try using .loc[row_indexer,col_indexer] = value instead\n",
      "\n",
      "See the caveats in the documentation: https://pandas.pydata.org/pandas-docs/stable/user_guide/indexing.html#returning-a-view-versus-a-copy\n",
      "  df_similar_address['score'] = df_similar_address.loc[:, 'lcs'].apply(\n",
      "C:\\Users\\DELL Admin\\Documents\\ODC\\DataBuilderHackathon\\sybil-scorer\\sbscorer\\legos\\TransactionAnalyser.py:274: SettingWithCopyWarning: \n",
      "A value is trying to be set on a copy of a slice from a DataFrame.\n",
      "Try using .loc[row_indexer,col_indexer] = value instead\n",
      "\n",
      "See the caveats in the documentation: https://pandas.pydata.org/pandas-docs/stable/user_guide/indexing.html#returning-a-view-versus-a-copy\n",
      "  df_other_address['lcs'] = 0\n",
      "C:\\Users\\DELL Admin\\Documents\\ODC\\DataBuilderHackathon\\sybil-scorer\\sbscorer\\legos\\TransactionAnalyser.py:287: SettingWithCopyWarning: \n",
      "A value is trying to be set on a copy of a slice from a DataFrame\n",
      "\n",
      "See the caveats in the documentation: https://pandas.pydata.org/pandas-docs/stable/user_guide/indexing.html#returning-a-view-versus-a-copy\n",
      "  df_other_address.loc[add, 'lcs'] = lcs\n",
      "C:\\Users\\DELL Admin\\Documents\\ODC\\DataBuilderHackathon\\sybil-scorer\\sbscorer\\legos\\TransactionAnalyser.py:279: SettingWithCopyWarning: \n",
      "A value is trying to be set on a copy of a slice from a DataFrame\n",
      "\n",
      "See the caveats in the documentation: https://pandas.pydata.org/pandas-docs/stable/user_guide/indexing.html#returning-a-view-versus-a-copy\n",
      "  df_other_address.loc[add, 'lcs'] = 0\n",
      "C:\\Users\\DELL Admin\\Documents\\ODC\\DataBuilderHackathon\\sybil-scorer\\sbscorer\\legos\\TransactionAnalyser.py:290: SettingWithCopyWarning: \n",
      "A value is trying to be set on a copy of a slice from a DataFrame.\n",
      "Try using .loc[row_indexer,col_indexer] = value instead\n",
      "\n",
      "See the caveats in the documentation: https://pandas.pydata.org/pandas-docs/stable/user_guide/indexing.html#returning-a-view-versus-a-copy\n",
      "  df_similar_address['score'] = df_similar_address.loc[:, 'lcs'].apply(\n",
      "C:\\Users\\DELL Admin\\Documents\\ODC\\DataBuilderHackathon\\sybil-scorer\\sbscorer\\legos\\TransactionAnalyser.py:274: SettingWithCopyWarning: \n",
      "A value is trying to be set on a copy of a slice from a DataFrame.\n",
      "Try using .loc[row_indexer,col_indexer] = value instead\n",
      "\n",
      "See the caveats in the documentation: https://pandas.pydata.org/pandas-docs/stable/user_guide/indexing.html#returning-a-view-versus-a-copy\n",
      "  df_other_address['lcs'] = 0\n",
      "C:\\Users\\DELL Admin\\Documents\\ODC\\DataBuilderHackathon\\sybil-scorer\\sbscorer\\legos\\TransactionAnalyser.py:287: SettingWithCopyWarning: \n",
      "A value is trying to be set on a copy of a slice from a DataFrame\n",
      "\n",
      "See the caveats in the documentation: https://pandas.pydata.org/pandas-docs/stable/user_guide/indexing.html#returning-a-view-versus-a-copy\n",
      "  df_other_address.loc[add, 'lcs'] = lcs\n",
      "C:\\Users\\DELL Admin\\Documents\\ODC\\DataBuilderHackathon\\sybil-scorer\\sbscorer\\legos\\TransactionAnalyser.py:279: SettingWithCopyWarning: \n",
      "A value is trying to be set on a copy of a slice from a DataFrame\n",
      "\n",
      "See the caveats in the documentation: https://pandas.pydata.org/pandas-docs/stable/user_guide/indexing.html#returning-a-view-versus-a-copy\n",
      "  df_other_address.loc[add, 'lcs'] = 0\n"
     ]
    }
   ],
   "source": [
    "df_address['transaction_similitude'] = df_address['address'].apply(lambda x : tx_analyser.has_transaction_similitude_opti(x))\n"
   ]
  },
  {
   "cell_type": "code",
   "execution_count": null,
   "metadata": {},
   "outputs": [
    {
     "ename": "TypeError",
     "evalue": "'module' object is not callable",
     "output_type": "error",
     "traceback": [
      "\u001b[1;31m---------------------------------------------------------------------------\u001b[0m",
      "\u001b[1;31mTypeError\u001b[0m                                 Traceback (most recent call last)",
      "Cell \u001b[1;32mIn[9], line 1\u001b[0m\n\u001b[1;32m----> 1\u001b[0m tx_analyser \u001b[39m=\u001b[39m TransactionAnalyser()\n",
      "\u001b[1;31mTypeError\u001b[0m: 'module' object is not callable"
     ]
    }
   ],
   "source": [
    "tx_analyser = TransactionAnalyser()"
   ]
  },
  {
   "cell_type": "code",
   "execution_count": null,
   "metadata": {},
   "outputs": [],
   "source": []
  }
 ],
 "metadata": {
  "kernelspec": {
   "display_name": "Python 3",
   "language": "python",
   "name": "python3"
  },
  "language_info": {
   "codemirror_mode": {
    "name": "ipython",
    "version": 3
   },
   "file_extension": ".py",
   "mimetype": "text/x-python",
   "name": "python",
   "nbconvert_exporter": "python",
   "pygments_lexer": "ipython3",
   "version": "3.10.9"
  },
  "orig_nbformat": 4,
  "vscode": {
   "interpreter": {
    "hash": "369f2c481f4da34e4445cda3fffd2e751bd1c4d706f27375911949ba6bb62e1c"
   }
  }
 },
 "nbformat": 4,
 "nbformat_minor": 2
}
